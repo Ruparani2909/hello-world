{
 "cells": [
  {
   "cell_type": "code",
   "execution_count": null,
   "metadata": {
    "id": "PaahuJ7zZR04"
   },
   "outputs": [],
   "source": [
    "#for square matrix\n",
    "%%time\n",
    "import numpy as np\n",
    "def getAB(A):\n",
    "\n",
    "    m,n= A.shape\n",
    "    A= A.copy()\n",
    "    Q= np.zeros((m,n))\n",
    "    R= np.zeros((n,n))\n",
    "\n",
    "    for k in range(n):\n",
    "\n",
    "        R[k,k]= np.linalg.norm(A[:,k:k+1].reshape(-1),2)\n",
    "        Q[:,k:k+1]= A[:,k:k+1]/R[k,k]\n",
    "        R[k:k+1,k+1:n+1]= np.dot( Q[:,k:k+1].T, A[:,k+1:n+1] )\n",
    "        A[:,k+1:n+1]= A[:, k+1:n+1] - np.dot( Q[:,k:k+1], R[k:k+1,k+1:n+1])\n",
    "\n",
    "\n",
    "    return Q, R\n",
    "\n",
    "As= np.array([ [2., 1., 1.], [1., 3., 2.], [1., 2., 2.]])  \n",
    "print ('Original Matrix :')\n",
    "print (As)\n",
    "\n",
    "Q,R = getAB(As)\n",
    "print('Q matrix : ')\n",
    "print(Q)\n",
    "print('R matrix : ')\n",
    "print(R)\n",
    "\n",
    "#Get original matrix (approx)\n",
    "ori = np.dot(Q,R)\n",
    "print(ori)"
   ]
  },
  {
   "cell_type": "code",
   "execution_count": null,
   "metadata": {
    "id": "YL2uZjefYq6u"
   },
   "outputs": [],
   "source": [
    "%%time\n",
    "def getAB(A): #for rectangular matrix\n",
    "\n",
    "    m,n= A.shape\n",
    "    k=2\n",
    "    A= A.copy()\n",
    "    Q= np.zeros((m,k))\n",
    "    R= np.zeros((k,n))\n",
    "\n",
    "    for k in range(n):\n",
    "\n",
    "        R[k,k]= np.linalg.norm(A[:,k:k+1].reshape(-1),2)\n",
    "        Q[:,k:k+1]= A[:,k:k+1]/R[k,k]\n",
    "        R[k:k+1,k+1:n+1]= np.dot( Q[:,k:k+1].T, A[:,k+1:n+1] )\n",
    "        A[:,k+1:n+1]= A[:, k+1:n+1] - np.dot( Q[:,k:k+1], R[k:k+1,k+1:n+1])\n",
    "\n",
    "\n",
    "    return Q, R\n",
    "\n",
    "As= np.array([ [2., 1.], [1., 3.], [1., 2.], [1., 3.]])  \n",
    "print ('Original Matrix :')\n",
    "print (As)\n",
    "\n",
    "Q,R = getAB(As)\n",
    "print('Q matrix : ')\n",
    "print(Q)\n",
    "print('R matrix : ')\n",
    "print(R)\n",
    "\n",
    "#Get original matrix (approx)\n",
    "ori = np.dot(Q,R)\n",
    "print(ori)"
   ]
  },
  {
   "cell_type": "code",
   "execution_count": null,
   "metadata": {
    "id": "U2GuMwTOYOvS"
   },
   "outputs": [],
   "source": [
    "#for read input dynamically\n",
    "n = int(input(\"Enter the number of rows:\")) \n",
    "m = int(input(\"Enter the number of columns:\")) \n",
    "  \n",
    "# Initialize matrix \n",
    "X = [] \n",
    "print(\"Enter the entries rowwise:\") \n",
    "  \n",
    "# For user input \n",
    "for i in range(n):          # A for loop for row entries \n",
    "    a =[] \n",
    "    for j in range(m):      # A for loop for column entries \n",
    "         a.append(int(input())) \n",
    "    X.append(a) \n",
    "    \n",
    "k= int(input('Enter value of k : '))\n",
    "\n",
    "#Gram Schimdt\n",
    "def getAB(A,k):\n",
    "\n",
    "    m,n= A.shape\n",
    "    k=2\n",
    "    A= A.copy()\n",
    "    Q= np.zeros((m,k))\n",
    "    R= np.zeros((k,n))\n",
    "\n",
    "    for k in range(n):\n",
    "\n",
    "        R[k,k]= np.linalg.norm(A[:,k:k+1].reshape(-1),2)\n",
    "        Q[:,k:k+1]= A[:,k:k+1]/R[k,k]\n",
    "        R[k:k+1,k+1:n+1]= np.dot( Q[:,k:k+1].T, A[:,k+1:n+1] )\n",
    "        A[:,k+1:n+1]= A[:, k+1:n+1] - np.dot( Q[:,k:k+1], R[k:k+1,k+1:n+1])\n",
    "\n",
    "\n",
    "    return Q, R\n",
    "\n",
    "As= np.array([ [2., 1.], [1., 3.], [1., 2.], [1., 3.]])  \n",
    "print ('Original Matrix :')\n",
    "print (As)\n",
    "\n",
    "Q,R = getAB(As)\n",
    "print('Q matrix : ')\n",
    "print(Q)\n",
    "print('R matrix : ')\n",
    "print(R)\n",
    "\n",
    "#Get original matrix (approx)\n",
    "ori = np.dot(Q,R)\n",
    "print(ori)"
   ]
  },
  {
   "cell_type": "markdown",
   "metadata": {
    "id": "jcLljfJ4MGpR"
   },
   "source": [
    "**Q2)** I have solved by using getAB function with Matrix A. Initilization shape of the Matrix A into m,n and Q,R matrix with these values.build a for loopin range of n.by using the linear algebra norm method,which is used to calculate the norm of a vector or a matrix.Applying for R,Q,A matrix.Then generate Q,R values.printing the original matrix and Q matrix.\n",
    "\n",
    "**if the size of X is very large** : I think should be able to use numpy.memmap to memory map a file on disk. With newer python and 64-bit machine,Have the necessary address space, without loading everything into memory. The OS should handle only keep part of the file in memory.\n"
   ]
  },
  {
   "cell_type": "markdown",
   "metadata": {
    "id": "y9A6ULL9Q1ft"
   },
   "source": [
    "**Q3)** **How can you speed up your implementation in Question-1 by an order of magnitude?**\n",
    "\n",
    "I have done this in Python using NumPy as shown above (as a reference, this code runs in 0.3s). Although this works well, I would like to speed it up since I call the function multiple times in my code (and it represents over 90% of the computation involved."
   ]
  }
 ],
 "metadata": {
  "colab": {
   "name": "Bizzflo.ipynb",
   "private_outputs": true,
   "provenance": []
  },
  "kernelspec": {
   "display_name": "Python 3",
   "language": "python",
   "name": "python3"
  },
  "language_info": {
   "codemirror_mode": {
    "name": "ipython",
    "version": 3
   },
   "file_extension": ".py",
   "mimetype": "text/x-python",
   "name": "python",
   "nbconvert_exporter": "python",
   "pygments_lexer": "ipython3",
   "version": "3.7.6"
  }
 },
 "nbformat": 4,
 "nbformat_minor": 1
}
